{
 "cells": [
  {
   "cell_type": "code",
   "execution_count": 169,
   "metadata": {},
   "outputs": [],
   "source": [
    "from selenium import webdriver\n",
    "from selenium.webdriver.common.by import By\n",
    "import time\n",
    "import pandas as pd"
   ]
  },
  {
   "attachments": {},
   "cell_type": "markdown",
   "metadata": {},
   "source": [
    "### Code To scrape Category Data"
   ]
  },
  {
   "cell_type": "code",
   "execution_count": 191,
   "metadata": {},
   "outputs": [],
   "source": [
    "def load_browser(url):\n",
    "    browser = webdriver.Chrome()\n",
    "    browser.get(url)\n",
    "    time.sleep(2)\n",
    "    return browser\n",
    "\n",
    "def scrape_data(browser):\n",
    "    item_titles = []\n",
    "    image_urls = []\n",
    "    no_reviews = []\n",
    "    item_prices = []\n",
    "\n",
    "    condition = True\n",
    "    while condition:\n",
    "        parent_element = browser.find_element(By.XPATH, '//*[@id=\"search\"]/div[1]/div[1]/div')\n",
    "        \n",
    "        items = parent_element.find_elements(By.XPATH, '//div[@class=\"a-section a-spacing-base\"]')\n",
    "        parent_element\n",
    "        try:\n",
    "            for item in items:\n",
    "                \n",
    "                item_title = item.find_element(By.TAG_NAME, 'h2').text\n",
    "                image_url = item.find_element(By.TAG_NAME, \"img\").get_attribute('src')\n",
    "                try:\n",
    "                    price = item.find_element(By.CLASS_NAME, 'a-price-whole').text\n",
    "                except:\n",
    "                    price = \"\"\n",
    "                try:\n",
    "                    no_review = item.find_element(By.CLASS_NAME, 'a-size-base.s-underline-text').text\n",
    "                    if (no_review.find('$') != -1):\n",
    "                        no_review = \" \"\n",
    "                except:\n",
    "                    no_review = \" \"\n",
    "\n",
    "                item_titles.append(item_title)\n",
    "                image_urls.append(image_url)\n",
    "                no_reviews.append(no_review)\n",
    "                item_prices.append(price)\n",
    "            next_btn = parent_element.find_element(By.CLASS_NAME, 's-pagination-item.s-pagination-next.s-pagination-button.s-pagination-separator')\n",
    "            next_btn.click()\n",
    "            time.sleep(5)\n",
    "        except:\n",
    "            condition = False\n",
    "            browser.close()\n",
    "\n",
    "    data = {\"item_titles\":item_titles, \"image_urls\":image_urls, \"no_reviews\":no_reviews, \"item_prices\":item_prices\n",
    "        }\n",
    "    return data\n",
    "    \n",
    "def to_df_csv(data):\n",
    "    df = pd.DataFrame(data)\n",
    "    df.to_csv(\"temp.csv\", index=False)\n",
    "    return df\n",
    "\n",
    "\n",
    "    "
   ]
  },
  {
   "cell_type": "code",
   "execution_count": 192,
   "metadata": {},
   "outputs": [],
   "source": [
    "url = \"https://www.amazon.com/s?i=electronics-intl-ship&bbn=16225009011&rh=n%3A502394%2Cn%3A3350161&dc&qid=1677590740&rnid=502394&ref=sr_pg_1\"\n",
    "\n",
    "browser = load_browser(url)\n",
    "data = scrape_data(browser)\n",
    "df = to_df_csv(data)\n",
    "\n"
   ]
  },
  {
   "cell_type": "code",
   "execution_count": null,
   "metadata": {},
   "outputs": [],
   "source": []
  }
 ],
 "metadata": {
  "kernelspec": {
   "display_name": "Python 3",
   "language": "python",
   "name": "python3"
  },
  "language_info": {
   "codemirror_mode": {
    "name": "ipython",
    "version": 3
   },
   "file_extension": ".py",
   "mimetype": "text/x-python",
   "name": "python",
   "nbconvert_exporter": "python",
   "pygments_lexer": "ipython3",
   "version": "3.9.0"
  },
  "orig_nbformat": 4,
  "vscode": {
   "interpreter": {
    "hash": "6fff98fc3b3d81bd655c2cc48858186e4d9e2db7b515bf1c3221888f12a62f87"
   }
  }
 },
 "nbformat": 4,
 "nbformat_minor": 2
}
